{
 "cells": [
  {
   "cell_type": "code",
   "execution_count": 3,
   "id": "aa76ed93",
   "metadata": {},
   "outputs": [],
   "source": [
    "\n",
    "# Import the liberaries: \n",
    "import pandas as pd\n",
    "import numpy as np\n"
   ]
  },
  {
   "cell_type": "code",
   "execution_count": 4,
   "id": "0f7e71b5",
   "metadata": {},
   "outputs": [],
   "source": [
    "# read the database from the computer \n",
    "ltc_df=pd.read_csv(\"data/ltcdsl_covid data.csv\")"
   ]
  },
  {
   "cell_type": "code",
   "execution_count": 5,
   "id": "7b8a8723",
   "metadata": {},
   "outputs": [],
   "source": [
    "# to expand the number of columns and rows that we can see while dispalying a datafram\n",
    "pd.set_option('display.max_columns', ltc_df.columns.shape[0]+1)\n",
    "pd.set_option('display.max_rows', 200)"
   ]
  },
  {
   "cell_type": "markdown",
   "id": "dd7d2e5c",
   "metadata": {},
   "source": [
    "# 1- Cleaning the data "
   ]
  },
  {
   "cell_type": "code",
   "execution_count": 6,
   "id": "1fcf050a",
   "metadata": {},
   "outputs": [
    {
     "data": {
      "text/plain": [
       "(25586, 84)"
      ]
     },
     "execution_count": 6,
     "metadata": {},
     "output_type": "execute_result"
    }
   ],
   "source": [
    "# The size of the database\n",
    "ltc_df.shape"
   ]
  },
  {
   "cell_type": "code",
   "execution_count": 7,
   "id": "b55665e9",
   "metadata": {},
   "outputs": [
    {
     "name": "stdout",
     "output_type": "stream",
     "text": [
      "<class 'pandas.core.frame.DataFrame'>\n",
      "RangeIndex: 25586 entries, 0 to 25585\n",
      "Data columns (total 84 columns):\n",
      " #   Column                            Non-Null Count  Dtype  \n",
      "---  ------                            --------------  -----  \n",
      " 0   spec_pat_num_age                  25585 non-null  float64\n",
      " 1   patient_gender                    25586 non-null  object \n",
      " 2   chf_2_years_full                  25586 non-null  bool   \n",
      " 3   card_arrh_2_years_full            25586 non-null  bool   \n",
      " 4   valv_dis_2_years_full             25586 non-null  bool   \n",
      " 5   pcd_2_years_full                  25586 non-null  bool   \n",
      " 6   pvd_2_years_full                  25586 non-null  bool   \n",
      " 7   htn_unc_2_years_full              25586 non-null  bool   \n",
      " 8   htn_c_2_years_full                25586 non-null  bool   \n",
      " 9   paral_2_years_full                25586 non-null  bool   \n",
      " 10  oth_neur_dis_2_years_full         25586 non-null  bool   \n",
      " 11  cpd_2_years_full                  25586 non-null  bool   \n",
      " 12  diab_2_years_full                 25586 non-null  bool   \n",
      " 13  hypothyroidism_2_years_full       25586 non-null  bool   \n",
      " 14  ren_fail_2_years_full             25586 non-null  bool   \n",
      " 15  liver_dis_2_years_full            25586 non-null  bool   \n",
      " 16  pep_ulc_exc_bld_2_years_full      25586 non-null  bool   \n",
      " 17  aids_hiv_2_years_full             25586 non-null  bool   \n",
      " 18  lymph_2_years_full                25586 non-null  bool   \n",
      " 19  cancer_mets_2_years_full          25586 non-null  bool   \n",
      " 20  tumour_no_mets_2_years_full       25586 non-null  bool   \n",
      " 21  rheum_col_vasc_dis_2_years_full   25586 non-null  bool   \n",
      " 22  coag_2_years_full                 25586 non-null  bool   \n",
      " 23  obes_2_years_full                 25586 non-null  bool   \n",
      " 24  wt_loss_2_years_full              25586 non-null  bool   \n",
      " 25  fluid_elec_dis_2_years_full       25586 non-null  bool   \n",
      " 26  anemia_2_years_full               25586 non-null  bool   \n",
      " 27  alc_abuse_2_years_full            25586 non-null  bool   \n",
      " 28  drug_abuse_2_years_full           25586 non-null  bool   \n",
      " 29  psych_2_years_full                25586 non-null  bool   \n",
      " 30  depress_2_years_full              25586 non-null  bool   \n",
      " 31  num_elixhauser_2_years_full_cat   25586 non-null  object \n",
      " 32  num_elixhauser_2_years_full       25586 non-null  int64  \n",
      " 33  elix_index                        25586 non-null  int64  \n",
      " 34  num_admits_1_year                 25586 non-null  int64  \n",
      " 35  num_scu_admits_1_year             25586 non-null  int64  \n",
      " 36  num_procs_dad_1_year              25586 non-null  int64  \n",
      " 37  num_procs_nacrs_1_year            14625 non-null  float64\n",
      " 38  num_procs_tot_1_year              25586 non-null  int64  \n",
      " 39  collected_in_hospital             25586 non-null  bool   \n",
      " 40  collected_in_ed                   25586 non-null  bool   \n",
      " 41  collected_in_ltc                  25586 non-null  bool   \n",
      " 42  collected_in_dsl                  25586 non-null  bool   \n",
      " 43  ltc_resident_during_collection    25586 non-null  bool   \n",
      " 44  dsl_resident_during_collection    25586 non-null  bool   \n",
      " 45  days_to_first_unplanned_ambulato  3809 non-null   float64\n",
      " 46  num_unplanned_ambulatory_visits_  25586 non-null  int64  \n",
      " 47  any_unplanned_ambulatory_visits_  25586 non-null  bool   \n",
      " 48  num_hospital_admits_within_60_da  25586 non-null  int64  \n",
      " 49  days_to_first_hospital_admit      2508 non-null   float64\n",
      " 50  any_icu_admit_within_60_days      25586 non-null  bool   \n",
      " 51  num_icu_admits_within_60_days     25586 non-null  int64  \n",
      " 52  days_to_first_icu_admit           108 non-null    float64\n",
      " 53  any_cv_icu_admit_within_60_days   25586 non-null  bool   \n",
      " 54  num_cv_icu_admits_within_60_days  25586 non-null  int64  \n",
      " 55  days_to_first_cv_icu_admit        12 non-null     float64\n",
      " 56  any_ventilations_within_60_days   25586 non-null  bool   \n",
      " 57  num_ventilations_within_60_days   25586 non-null  int64  \n",
      " 58  days_to_first_ventilation         39 non-null     float64\n",
      " 59  any_ili_codes                     25586 non-null  bool   \n",
      " 60  days_to_death                     2590 non-null   float64\n",
      " 61  death_location                    2590 non-null   object \n",
      " 62  died_in_hospital_within_60_days   25586 non-null  bool   \n",
      " 63  died_in_ltc_within_60_days        25586 non-null  bool   \n",
      " 64  died_in_dsl_within_60_days        25586 non-null  bool   \n",
      " 65  died_in_other_within_60_days      25586 non-null  bool   \n",
      " 66  in_icu_at_60_days                 361 non-null    object \n",
      " 67  in_cv_icu_at_60_days              361 non-null    object \n",
      " 68  in_hospital_at_60_days            361 non-null    object \n",
      " 69  in_ltc_at_60_days                 815 non-null    object \n",
      " 70  in_dsl_at_60_days                 822 non-null    object \n",
      " 71  status_at_60_days                 4356 non-null   object \n",
      " 72  los_for_first_admission           2508 non-null   float64\n",
      " 73  riw_for_first_admission           2508 non-null   float64\n",
      " 74  symptomatic_during_collection     20765 non-null  object \n",
      " 75  uli_scrambled                     25586 non-null  int64  \n",
      " 76  specimen_year_collected           25586 non-null  int64  \n",
      " 77  specimen_month_collected          25586 non-null  int64  \n",
      " 78  specimen_collection_location      25586 non-null  object \n",
      " 79  ltcdsl_during_collection          25586 non-null  bool   \n",
      " 80  spec_pat_agecat                   25586 non-null  object \n",
      " 81  died_within_60_days               25586 non-null  object \n",
      " 82  interp_result                     25586 non-null  object \n",
      " 83  any_hospital_admits_within_60d    25586 non-null  object \n",
      "dtypes: bool(45), float64(10), int64(14), object(15)\n",
      "memory usage: 8.7+ MB\n"
     ]
    }
   ],
   "source": [
    "# To see the types of each varaible  and whether or not we have null values \n",
    "ltc_df.info()"
   ]
  },
  {
   "cell_type": "code",
   "execution_count": 8,
   "id": "3504f730",
   "metadata": {},
   "outputs": [
    {
     "data": {
      "text/plain": [
       "25586"
      ]
     },
     "execution_count": 8,
     "metadata": {},
     "output_type": "execute_result"
    }
   ],
   "source": [
    "# number of individuals in the Database \n",
    "len(ltc_df)"
   ]
  },
  {
   "cell_type": "markdown",
   "id": "240e57b1",
   "metadata": {},
   "source": [
    "\n",
    "### 1.1- Dummy variable\n",
    "\n",
    "We need to convert the type of the following featurs to Bool\n",
    "* 'in_icu_at_60_days', \n",
    "* 'in_cv_icu_at_60_days', \n",
    "* 'in_hospital_at_60_days', \n",
    "* 'in_ltc_at_60_days' , \n",
    "* 'in_dsl_at_60_days'\n",
    "* \"died_within_60_days\" \n",
    "* \"any_hospital_admits_within_60d\" with \"yes\" and \"no\" values need to be boolean with the True and False values "
   ]
  },
  {
   "cell_type": "code",
   "execution_count": 9,
   "id": "b893206a",
   "metadata": {},
   "outputs": [],
   "source": [
    "# The following features should be bool, but they are objects in the dataframe \n",
    "in_at_66=['in_icu_at_60_days', 'in_cv_icu_at_60_days', 'in_hospital_at_60_days', 'in_ltc_at_60_days' , 'in_dsl_at_60_days']              \n",
    "# so we need to change the type \n",
    "for each in in_at_66:\n",
    "    ltc_df[each] = ltc_df[each].apply(lambda x: str(x).replace('True', \"1\"))\n",
    "    ltc_df[each] = ltc_df[each].apply(lambda x: x.replace('False', \"\"))\n",
    "    ltc_df[each] = ltc_df[each].apply(lambda x: x.replace('nan', \"\"))\n",
    "    ltc_df[each] = ltc_df[each].apply(lambda x: bool(x))\n",
    "    \n",
    "\n",
    "ltc_df['died_within_60_days'] = ltc_df.died_within_60_days.apply(lambda x: x.strip().replace('Yes', \"1\"))\n",
    "ltc_df['died_within_60_days'] = ltc_df.died_within_60_days.apply(lambda x: x.strip().replace('No', \"\"))\n",
    "ltc_df['died_within_60_days'] = ltc_df.died_within_60_days.apply(lambda x: bool(x))\n",
    "\n",
    "ltc_df['any_hospital_admits_within_60d'] = ltc_df.any_hospital_admits_within_60d.apply(lambda x: x.strip().replace('Yes', \"1\"))\n",
    "ltc_df['any_hospital_admits_within_60d'] = ltc_df.any_hospital_admits_within_60d.apply(lambda x: x.strip().replace('No', \"\"))\n",
    "ltc_df['any_hospital_admits_within_60d'] = ltc_df.any_hospital_admits_within_60d.apply(lambda x: bool(x))\n",
    "\n",
    "\n",
    "# To work with the boolean data and visualize them, we changed the boolean to int\n",
    "\n",
    "# select the columns which have the data type of boolean\n",
    "col_bool=ltc_df.select_dtypes(include=bool).columns\n",
    "\n",
    "# change the datatype from bool to int\n",
    "ltc_df[col_bool]=ltc_df[col_bool].apply(lambda x: x.astype('int32'))\n"
   ]
  },
  {
   "cell_type": "markdown",
   "id": "056c95e2",
   "metadata": {},
   "source": [
    "### 1.2- missing values  and Dealing with null values\n"
   ]
  },
  {
   "cell_type": "code",
   "execution_count": 10,
   "id": "f0ef4d82",
   "metadata": {},
   "outputs": [
    {
     "data": {
      "text/plain": [
       "spec_pat_num_age                        1\n",
       "num_procs_nacrs_1_year              10961\n",
       "days_to_first_unplanned_ambulato    21777\n",
       "days_to_first_hospital_admit        23078\n",
       "days_to_first_icu_admit             25478\n",
       "days_to_first_cv_icu_admit          25574\n",
       "days_to_first_ventilation           25547\n",
       "days_to_death                       22996\n",
       "death_location                      22996\n",
       "status_at_60_days                   21230\n",
       "los_for_first_admission             23078\n",
       "riw_for_first_admission             23078\n",
       "symptomatic_during_collection        4821\n",
       "dtype: int64"
      ]
     },
     "execution_count": 10,
     "metadata": {},
     "output_type": "execute_result"
    }
   ],
   "source": [
    "# to sum the values with null for each column \n",
    "ltc_df.isna().sum()[ltc_df.isna().sum()!=0]"
   ]
  },
  {
   "cell_type": "markdown",
   "id": "5d2d8955",
   "metadata": {},
   "source": [
    "### Percentage of the null values for each feature with null values "
   ]
  },
  {
   "cell_type": "code",
   "execution_count": 11,
   "id": "f5a5fe1f",
   "metadata": {},
   "outputs": [
    {
     "data": {
      "text/plain": [
       "spec_pat_num_age                     0.003908\n",
       "num_procs_nacrs_1_year              42.839834\n",
       "days_to_first_unplanned_ambulato    85.112952\n",
       "days_to_first_hospital_admit        90.197764\n",
       "days_to_first_icu_admit             99.577894\n",
       "days_to_first_cv_icu_admit          99.953099\n",
       "days_to_first_ventilation           99.847573\n",
       "days_to_death                       89.877277\n",
       "death_location                      89.877277\n",
       "status_at_60_days                   82.975064\n",
       "los_for_first_admission             90.197764\n",
       "riw_for_first_admission             90.197764\n",
       "symptomatic_during_collection       18.842336\n",
       "dtype: float64"
      ]
     },
     "execution_count": 11,
     "metadata": {},
     "output_type": "execute_result"
    }
   ],
   "source": [
    "# calculate the percentage of the null values \n",
    "(ltc_df.isna().sum()[ltc_df.isna().sum()!=0])*100/25586"
   ]
  },
  {
   "cell_type": "markdown",
   "id": "67dcd8d9",
   "metadata": {},
   "source": [
    "\n",
    "#### 1.2.1-  riw_for_first_admission \n",
    " As the lowest score for RIW is \"0.105100\" and we dont have any zero value, we will fill the null values for RIW with <font color='red'>zero</font>. "
   ]
  },
  {
   "cell_type": "code",
   "execution_count": 12,
   "id": "caa32461",
   "metadata": {},
   "outputs": [
    {
     "data": {
      "text/plain": [
       "0.1051    2\n",
       "0.1379    1\n",
       "Name: riw_for_first_admission, dtype: int64"
      ]
     },
     "execution_count": 12,
     "metadata": {},
     "output_type": "execute_result"
    }
   ],
   "source": [
    "# to see the lowest score for the riw \n",
    "ltc_df['riw_for_first_admission'].value_counts().sort_index().head(2)"
   ]
  },
  {
   "cell_type": "code",
   "execution_count": 13,
   "id": "681da0ab",
   "metadata": {},
   "outputs": [
    {
     "name": "stderr",
     "output_type": "stream",
     "text": [
      "/var/folders/8k/v_790m6j3ksgsl4j86kmxvsw0000gn/T/ipykernel_26136/3659989589.py:2: SettingWithCopyWarning: \n",
      "A value is trying to be set on a copy of a slice from a DataFrame\n",
      "\n",
      "See the caveats in the documentation: https://pandas.pydata.org/pandas-docs/stable/user_guide/indexing.html#returning-a-view-versus-a-copy\n",
      "  ltc_df['riw_for_first_admission'][ltc_df['riw_for_first_admission'].isna()]=0\n"
     ]
    }
   ],
   "source": [
    "# fill the null values with 0\n",
    "ltc_df['riw_for_first_admission'][ltc_df['riw_for_first_admission'].isna()]=0"
   ]
  },
  {
   "cell_type": "markdown",
   "id": "ca953f57",
   "metadata": {},
   "source": [
    "#### 1.2.2-  los_for_first_admission \n",
    "Adding 1 to all the values that are not null. As zero value shows that there are at least one admission, but they did not stay for one day(it may took for a few hours). \n",
    "\n",
    "\n",
    "los is for the people who have had at least one admision after the test results. We have already checked that any_hospitial_admits within_60 days will be one for the people with the los != null. If the los is null the any_hopitial_admits within_60 is 0. "
   ]
  },
  {
   "cell_type": "code",
   "execution_count": 14,
   "id": "37e64cd7",
   "metadata": {},
   "outputs": [
    {
     "name": "stdout",
     "output_type": "stream",
     "text": [
      "## unique values for the any_hospital_admits_within_60d for the ones with los not equal to null is one \n",
      "[1]\n",
      "## unique values for the any_hospital_admits_within_60d for the ones with los equal to null is zero \n",
      "[0]\n"
     ]
    }
   ],
   "source": [
    "print(\"## unique values for the any_hospital_admits_within_60d for the ones with los not equal to null is one \")\n",
    "print(ltc_df['any_hospital_admits_within_60d'][ltc_df['los_for_first_admission'].notna()].unique())\n",
    "\n",
    "print(\"## unique values for the any_hospital_admits_within_60d for the ones with los equal to null is zero \")\n",
    "print(ltc_df['any_hospital_admits_within_60d'][ltc_df['los_for_first_admission'].isna()].unique())"
   ]
  },
  {
   "cell_type": "code",
   "execution_count": 15,
   "id": "ad6f11ad",
   "metadata": {},
   "outputs": [
    {
     "name": "stderr",
     "output_type": "stream",
     "text": [
      "/var/folders/8k/v_790m6j3ksgsl4j86kmxvsw0000gn/T/ipykernel_26136/1628834367.py:2: SettingWithCopyWarning: \n",
      "A value is trying to be set on a copy of a slice from a DataFrame\n",
      "\n",
      "See the caveats in the documentation: https://pandas.pydata.org/pandas-docs/stable/user_guide/indexing.html#returning-a-view-versus-a-copy\n",
      "  ltc_df['los_for_first_admission'][ltc_df['los_for_first_admission'].notna()]=ltc_df['los_for_first_admission'][ltc_df['los_for_first_admission'].notna()]+1\n",
      "/var/folders/8k/v_790m6j3ksgsl4j86kmxvsw0000gn/T/ipykernel_26136/1628834367.py:5: SettingWithCopyWarning: \n",
      "A value is trying to be set on a copy of a slice from a DataFrame\n",
      "\n",
      "See the caveats in the documentation: https://pandas.pydata.org/pandas-docs/stable/user_guide/indexing.html#returning-a-view-versus-a-copy\n",
      "  ltc_df['los_for_first_admission'][ltc_df['los_for_first_admission'].isna()]=0\n"
     ]
    }
   ],
   "source": [
    "# add one to the not null values \n",
    "ltc_df['los_for_first_admission'][ltc_df['los_for_first_admission'].notna()]=ltc_df['los_for_first_admission'][ltc_df['los_for_first_admission'].notna()]+1\n",
    "\n",
    "# fill the null values with zero\n",
    "ltc_df['los_for_first_admission'][ltc_df['los_for_first_admission'].isna()]=0"
   ]
  },
  {
   "cell_type": "markdown",
   "id": "82664aeb",
   "metadata": {},
   "source": [
    "#### 1.2.3. days_to_first_hospital_admit\n",
    "0: means, they had one visit for the hospital for the test covid (took few hours). \n",
    "\n",
    "-1: they have admitted to the hospital then tested for covid. \n",
    "\n",
    "The nan values are the ones who did not have any visit to the hospital. So it makes sense that we dont have any value for them. In that case as 0 or -1 have meanings, for the nans, we replace the values with the -2. \n",
    "\n",
    "-2: means, the individual did not have any visits for the hospital after the test covid."
   ]
  },
  {
   "cell_type": "code",
   "execution_count": 16,
   "id": "c1f114e7",
   "metadata": {},
   "outputs": [
    {
     "name": "stdout",
     "output_type": "stream",
     "text": [
      "## unique values for the any_hospital_admits_within_60d for the ones with days_to_first_hospital_admit not equal to null is one \n",
      "[1]\n",
      "## unique values for the any_hospital_admits_within_60d for the ones with days_to_first_hospital_admit equal to null is zero \n",
      "[0]\n"
     ]
    }
   ],
   "source": [
    "print(\"## unique values for the any_hospital_admits_within_60d for the ones with days_to_first_hospital_admit not equal to null is one \")\n",
    "print(ltc_df['any_hospital_admits_within_60d'][ltc_df['days_to_first_hospital_admit'].notna()].unique())\n",
    "print(\"## unique values for the any_hospital_admits_within_60d for the ones with days_to_first_hospital_admit equal to null is zero \")\n",
    "print(ltc_df['any_hospital_admits_within_60d'][ltc_df['days_to_first_hospital_admit'].isna()].unique())"
   ]
  },
  {
   "cell_type": "code",
   "execution_count": 17,
   "id": "d836b438",
   "metadata": {},
   "outputs": [
    {
     "name": "stderr",
     "output_type": "stream",
     "text": [
      "/var/folders/8k/v_790m6j3ksgsl4j86kmxvsw0000gn/T/ipykernel_26136/698968432.py:2: SettingWithCopyWarning: \n",
      "A value is trying to be set on a copy of a slice from a DataFrame\n",
      "\n",
      "See the caveats in the documentation: https://pandas.pydata.org/pandas-docs/stable/user_guide/indexing.html#returning-a-view-versus-a-copy\n",
      "  ltc_df['days_to_first_hospital_admit'][ltc_df['days_to_first_hospital_admit'].isna()]=-2\n"
     ]
    }
   ],
   "source": [
    "# fill the null values with -2\n",
    "ltc_df['days_to_first_hospital_admit'][ltc_df['days_to_first_hospital_admit'].isna()]=-2"
   ]
  },
  {
   "cell_type": "markdown",
   "id": "2c0a7d57",
   "metadata": {},
   "source": [
    "#### 1.2.4. days_to_first_icu_admit\n",
    "\n",
    "\n",
    "0: means, they had one visit for the icu for the test covid (took few hours). \n",
    "\n",
    "-1: they have admitted to the icu then tested for covid. \n",
    "\n",
    "The nan values are the ones who did not have any visit to the icu. So it makes sense that we dont have any value for them. In that case as 0 or -1 have meanings, for the nans, we replace the values with the -2. \n",
    "\n",
    "-2: means, the individual did not have any visits for the icu after the test covid."
   ]
  },
  {
   "cell_type": "code",
   "execution_count": 18,
   "id": "b13a9a9f",
   "metadata": {},
   "outputs": [
    {
     "name": "stdout",
     "output_type": "stream",
     "text": [
      "## unique values for the any_icu_admits_within_60d for the ones with days_to_first_icu_admit not equal to null is one \n",
      "[1]\n",
      "## unique values for the any_icu_admits_within_60d for the ones with days_to_first_icu_admit equal to null is zero \n",
      "[0]\n"
     ]
    }
   ],
   "source": [
    "print(\"## unique values for the any_icu_admits_within_60d for the ones with days_to_first_icu_admit not equal to null is one \")\n",
    "print(ltc_df['any_icu_admit_within_60_days'][ltc_df['days_to_first_icu_admit'].notna()].unique())\n",
    "print(\"## unique values for the any_icu_admits_within_60d for the ones with days_to_first_icu_admit equal to null is zero \")\n",
    "print(ltc_df['any_icu_admit_within_60_days'][ltc_df['days_to_first_icu_admit'].isna()].unique())"
   ]
  },
  {
   "cell_type": "code",
   "execution_count": 19,
   "id": "398310b8",
   "metadata": {},
   "outputs": [
    {
     "name": "stderr",
     "output_type": "stream",
     "text": [
      "/var/folders/8k/v_790m6j3ksgsl4j86kmxvsw0000gn/T/ipykernel_26136/647924581.py:2: SettingWithCopyWarning: \n",
      "A value is trying to be set on a copy of a slice from a DataFrame\n",
      "\n",
      "See the caveats in the documentation: https://pandas.pydata.org/pandas-docs/stable/user_guide/indexing.html#returning-a-view-versus-a-copy\n",
      "  ltc_df['days_to_first_icu_admit'][ltc_df['days_to_first_icu_admit'].isna()]=-2\n"
     ]
    }
   ],
   "source": [
    "# fill the null values with -2\n",
    "ltc_df['days_to_first_icu_admit'][ltc_df['days_to_first_icu_admit'].isna()]=-2"
   ]
  },
  {
   "cell_type": "markdown",
   "id": "f23778e7",
   "metadata": {},
   "source": [
    "#### 1.2.5. days_to_first_cv_icu_admit\n",
    "\n",
    "0: means, they had one visit for the icu for the test covid (took few hours). \n",
    "\n",
    "-1: they have admitted to the icu then tested for covid. \n",
    "\n",
    "The nan values are the ones who did not have any visit to the icu. So it makes sense that we dont have any value for them. In that case as 0 or -1 have meanings, for the nans, we replace the values with the -2. \n",
    "\n",
    "-2: means, the individual did not have any visits for the icu after the test covid."
   ]
  },
  {
   "cell_type": "code",
   "execution_count": 20,
   "id": "cb44c841",
   "metadata": {},
   "outputs": [
    {
     "name": "stdout",
     "output_type": "stream",
     "text": [
      "## unique values for the any_cv_icu_admit_within_60_days for the ones with days_to_first_cv_icu_admit not equal to null is one \n",
      "[1]\n",
      "## unique values for the any_cv_icu_admit_within_60_days for the ones with days_to_first_cv_icu_admit equal to null is zero \n",
      "[0]\n"
     ]
    }
   ],
   "source": [
    "print(\"## unique values for the any_cv_icu_admit_within_60_days for the ones with days_to_first_cv_icu_admit not equal to null is one \")\n",
    "print(ltc_df['any_cv_icu_admit_within_60_days'][ltc_df['days_to_first_cv_icu_admit'].notna()].unique())\n",
    "print(\"## unique values for the any_cv_icu_admit_within_60_days for the ones with days_to_first_cv_icu_admit equal to null is zero \")\n",
    "print(ltc_df['any_cv_icu_admit_within_60_days'][ltc_df['days_to_first_cv_icu_admit'].isna()].unique())"
   ]
  },
  {
   "cell_type": "code",
   "execution_count": 21,
   "id": "60889304",
   "metadata": {},
   "outputs": [
    {
     "name": "stderr",
     "output_type": "stream",
     "text": [
      "/var/folders/8k/v_790m6j3ksgsl4j86kmxvsw0000gn/T/ipykernel_26136/2590290531.py:2: SettingWithCopyWarning: \n",
      "A value is trying to be set on a copy of a slice from a DataFrame\n",
      "\n",
      "See the caveats in the documentation: https://pandas.pydata.org/pandas-docs/stable/user_guide/indexing.html#returning-a-view-versus-a-copy\n",
      "  ltc_df['days_to_first_cv_icu_admit'][ltc_df['days_to_first_cv_icu_admit'].isna()]=-2\n"
     ]
    }
   ],
   "source": [
    "# fill the null values with -2\n",
    "ltc_df['days_to_first_cv_icu_admit'][ltc_df['days_to_first_cv_icu_admit'].isna()]=-2"
   ]
  },
  {
   "cell_type": "markdown",
   "id": "51f5da3d",
   "metadata": {},
   "source": [
    "#### 1.2.6. days_to_first_ventilation\n",
    "\n",
    "0: means, they had one visit for the ventilation for the test covid (took few hours). \n",
    "\n",
    "-1: they have admitted to the ventilation then tested for covid. \n",
    "\n",
    "The nan values are the ones who did not have any visit to the ventilation. So it makes sense that we dont have any value for them. In that case as 0 or -1 have meanings, for the nans, we replace the values with the -2. \n",
    "\n",
    "-2: means, the individual did not have any visits for the ventilation after the test covid."
   ]
  },
  {
   "cell_type": "code",
   "execution_count": 22,
   "id": "d59da86e",
   "metadata": {},
   "outputs": [
    {
     "name": "stdout",
     "output_type": "stream",
     "text": [
      "## unique values for the any_ventilation_admits_within_60d for the ones with days_to_first_ventilation_admit not equal to null is one \n",
      "[1]\n",
      "## unique values for the any_ventilation_admits_within_60d for the ones with days_to_first_ventilation_admit equal to null is zero \n",
      "[0]\n"
     ]
    }
   ],
   "source": [
    "print(\"## unique values for the any_ventilation_admits_within_60d for the ones with days_to_first_ventilation_admit not equal to null is one \")\n",
    "print(ltc_df['any_ventilations_within_60_days'][ltc_df['days_to_first_ventilation'].notna()].unique())\n",
    "print(\"## unique values for the any_ventilation_admits_within_60d for the ones with days_to_first_ventilation_admit equal to null is zero \")\n",
    "print(ltc_df['any_ventilations_within_60_days'][ltc_df['days_to_first_ventilation'].isna()].unique())"
   ]
  },
  {
   "cell_type": "code",
   "execution_count": 23,
   "id": "fc4976e0",
   "metadata": {},
   "outputs": [
    {
     "name": "stderr",
     "output_type": "stream",
     "text": [
      "/var/folders/8k/v_790m6j3ksgsl4j86kmxvsw0000gn/T/ipykernel_26136/2829293960.py:2: SettingWithCopyWarning: \n",
      "A value is trying to be set on a copy of a slice from a DataFrame\n",
      "\n",
      "See the caveats in the documentation: https://pandas.pydata.org/pandas-docs/stable/user_guide/indexing.html#returning-a-view-versus-a-copy\n",
      "  ltc_df['days_to_first_ventilation'][ltc_df['days_to_first_ventilation'].isna()]=-2\n"
     ]
    }
   ],
   "source": [
    "# fill the null values with -2\n",
    "ltc_df['days_to_first_ventilation'][ltc_df['days_to_first_ventilation'].isna()]=-2"
   ]
  },
  {
   "cell_type": "markdown",
   "id": "54258650",
   "metadata": {},
   "source": [
    "#### 1.2.7. days_to_death\n",
    "\n",
    "0: means, they died the same day as they tested for covid (took few hours). \n",
    "\n",
    "-1: they have died. After that they tested for covid. \n",
    "\n",
    "The nan values are the ones who are alive. So it makes sense that we dont have any value for them. In that case as 0 or -1 have meanings, for the nans, we replace the values with the -2. \n",
    "\n",
    "-2: means, the individual are alive."
   ]
  },
  {
   "cell_type": "code",
   "execution_count": 24,
   "id": "880be3f4",
   "metadata": {},
   "outputs": [
    {
     "name": "stdout",
     "output_type": "stream",
     "text": [
      "## unique values for the died_within_60_days for the ones with days_to_death not equal to null is one \n",
      "[1]\n",
      "## unique values for the died_within_60_days for the ones with days_to_death equal to null is zero \n",
      "[0]\n"
     ]
    }
   ],
   "source": [
    "print(\"## unique values for the died_within_60_days for the ones with days_to_death not equal to null is one \")\n",
    "print(ltc_df['died_within_60_days'][ltc_df['days_to_death'].notna()].unique())\n",
    "print(\"## unique values for the died_within_60_days for the ones with days_to_death equal to null is zero \")\n",
    "print(ltc_df['died_within_60_days'][ltc_df['days_to_death'].isna()].unique())"
   ]
  },
  {
   "cell_type": "code",
   "execution_count": 25,
   "id": "fe945de4",
   "metadata": {},
   "outputs": [
    {
     "name": "stderr",
     "output_type": "stream",
     "text": [
      "/var/folders/8k/v_790m6j3ksgsl4j86kmxvsw0000gn/T/ipykernel_26136/751729871.py:2: SettingWithCopyWarning: \n",
      "A value is trying to be set on a copy of a slice from a DataFrame\n",
      "\n",
      "See the caveats in the documentation: https://pandas.pydata.org/pandas-docs/stable/user_guide/indexing.html#returning-a-view-versus-a-copy\n",
      "  ltc_df['days_to_death'][ltc_df['days_to_death'].isna()]=-2\n"
     ]
    }
   ],
   "source": [
    "# fill the null values with -2\n",
    "ltc_df['days_to_death'][ltc_df['days_to_death'].isna()]=-2"
   ]
  },
  {
   "cell_type": "markdown",
   "id": "c9e3338e",
   "metadata": {},
   "source": [
    "#### 1.2.8. status_at_60_days\n",
    "\n",
    "\n",
    "The Nan values replaced with unknown."
   ]
  },
  {
   "cell_type": "code",
   "execution_count": 26,
   "id": "c5ab3cf4",
   "metadata": {},
   "outputs": [
    {
     "name": "stderr",
     "output_type": "stream",
     "text": [
      "/var/folders/8k/v_790m6j3ksgsl4j86kmxvsw0000gn/T/ipykernel_26136/2018041312.py:2: SettingWithCopyWarning: \n",
      "A value is trying to be set on a copy of a slice from a DataFrame\n",
      "\n",
      "See the caveats in the documentation: https://pandas.pydata.org/pandas-docs/stable/user_guide/indexing.html#returning-a-view-versus-a-copy\n",
      "  ltc_df['status_at_60_days'][ltc_df['status_at_60_days'].isna()]='unknown'\n"
     ]
    }
   ],
   "source": [
    "# fill the null values with unknown\n",
    "ltc_df['status_at_60_days'][ltc_df['status_at_60_days'].isna()]='unknown'"
   ]
  },
  {
   "cell_type": "markdown",
   "id": "5ee83a38",
   "metadata": {},
   "source": [
    "#### 1.2.9. num_procs_nacrs_1_year\n",
    "As for the nan variables the number of procedure for the dad is equel to the total procedures, we can assume, there is zero procedures for these people in Nacrs. However, as we have zero in the dataset, we will fill the nan values with -1. "
   ]
  },
  {
   "cell_type": "code",
   "execution_count": 27,
   "id": "2798c126",
   "metadata": {},
   "outputs": [
    {
     "name": "stderr",
     "output_type": "stream",
     "text": [
      "/var/folders/8k/v_790m6j3ksgsl4j86kmxvsw0000gn/T/ipykernel_26136/3240103526.py:2: SettingWithCopyWarning: \n",
      "A value is trying to be set on a copy of a slice from a DataFrame\n",
      "\n",
      "See the caveats in the documentation: https://pandas.pydata.org/pandas-docs/stable/user_guide/indexing.html#returning-a-view-versus-a-copy\n",
      "  ltc_df['num_procs_nacrs_1_year'][ltc_df['num_procs_nacrs_1_year'].isna()]=0\n"
     ]
    }
   ],
   "source": [
    "# fill the null values with -1\n",
    "ltc_df['num_procs_nacrs_1_year'][ltc_df['num_procs_nacrs_1_year'].isna()]=0"
   ]
  },
  {
   "cell_type": "markdown",
   "id": "35b6e26f",
   "metadata": {},
   "source": [
    "#### 1.2.10. days_to_first_unplanned_ambulato\n",
    "0: means, they had one visit for the ambulary for the test covid (took few hours).\n",
    "\n",
    "-1: they have admitted to the ambulatory then tested for covid.\n",
    "\n",
    "The nan values are the ones who did not have any visit to the ambulatory. So it makes sense that we dont have any value for them. In that case as 0 or -1 have meanings, for the nans, we replace the values with the -2.\n",
    "\n",
    "-2: means, the individual did not have any visits for the ambulatory after the test covid.\n"
   ]
  },
  {
   "cell_type": "code",
   "execution_count": 28,
   "id": "98de20f0",
   "metadata": {},
   "outputs": [
    {
     "name": "stderr",
     "output_type": "stream",
     "text": [
      "/var/folders/8k/v_790m6j3ksgsl4j86kmxvsw0000gn/T/ipykernel_26136/3669760614.py:2: SettingWithCopyWarning: \n",
      "A value is trying to be set on a copy of a slice from a DataFrame\n",
      "\n",
      "See the caveats in the documentation: https://pandas.pydata.org/pandas-docs/stable/user_guide/indexing.html#returning-a-view-versus-a-copy\n",
      "  ltc_df['days_to_first_unplanned_ambulato'][ltc_df['days_to_first_unplanned_ambulato'].isna()]=-2\n"
     ]
    }
   ],
   "source": [
    "# fill the null values with -2\n",
    "ltc_df['days_to_first_unplanned_ambulato'][ltc_df['days_to_first_unplanned_ambulato'].isna()]=-2"
   ]
  },
  {
   "cell_type": "markdown",
   "id": "c7c34266",
   "metadata": {},
   "source": [
    "#### 1.2.11- Dealing with null values in age (spec_pat_num_age)\n",
    "There is one null value in the age. But we have spec_pat_agecat, which is the category age. We will fill tha null by puting the median of the age in that category. \n"
   ]
  },
  {
   "cell_type": "code",
   "execution_count": 29,
   "id": "dd9e42de",
   "metadata": {},
   "outputs": [],
   "source": [
    "# fill the null value with the age of 25.\n",
    "ltc_df.loc[ltc_df['spec_pat_num_age'].isna(),'spec_pat_num_age']=25"
   ]
  },
  {
   "cell_type": "markdown",
   "id": "aa001a76",
   "metadata": {},
   "source": [
    "#### 1.2.12- Dealing with null values in symptomatic during collection column \n",
    "\n",
    "There are 4821 rows with the nan value, and 4381 has negative results. \n",
    "<font color='red'> I have filled them with 'N\"? which means negative</font>\n",
    "\n",
    "and for the ones who have  nan in the symptomatic, and the test result is positive, I have filled them with<font color='red'> 'U' which is undefined  </font>"
   ]
  },
  {
   "cell_type": "code",
   "execution_count": 30,
   "id": "fb74faec",
   "metadata": {},
   "outputs": [],
   "source": [
    "mask_negative=(ltc_df['symptomatic_during_collection'].isna()) & (ltc_df['interp_result']=='Negative')\n",
    "ltc_df.loc[mask_negative,['symptomatic_during_collection']]='N'"
   ]
  },
  {
   "cell_type": "code",
   "execution_count": 31,
   "id": "9daae25b",
   "metadata": {
    "scrolled": true
   },
   "outputs": [],
   "source": [
    "# select the positive calsese with the null syptomatic.\n",
    "mask_positive=(ltc_df['symptomatic_during_collection'].isna()) & (ltc_df['interp_result']=='Positive')\n",
    "# fill the null values with 'U' which means unknown\n",
    "ltc_df.loc[mask_positive,['symptomatic_during_collection']]='U'\n",
    "# ltc_df[mask_positive]"
   ]
  },
  {
   "cell_type": "markdown",
   "id": "99872cff",
   "metadata": {},
   "source": [
    "#### 1.2.13. death_location\n",
    "\n",
    "For all of the nan values, we have checked the died location in hospital, ltc, dsl, or others, and all of them are zero.\n",
    "\n",
    "After checking died_within_60_days feature, for the ones who have the nan values in the death location, this feature is zero for all the people with the nan value for the death location.\n",
    "\n",
    "The next phase is looking at the status_at_60_days to see what is their statuts at the 60th day for the people with nan values. Based on this feature, non of them are died. So, we assume that these people are alive and that is the reason why there is no value for them. \n",
    "\n",
    "so we will fill the nan values with 'A' that means alive. "
   ]
  },
  {
   "cell_type": "code",
   "execution_count": 32,
   "id": "c38ff989",
   "metadata": {},
   "outputs": [
    {
     "name": "stderr",
     "output_type": "stream",
     "text": [
      "/var/folders/8k/v_790m6j3ksgsl4j86kmxvsw0000gn/T/ipykernel_26136/2049445397.py:2: SettingWithCopyWarning: \n",
      "A value is trying to be set on a copy of a slice from a DataFrame\n",
      "\n",
      "See the caveats in the documentation: https://pandas.pydata.org/pandas-docs/stable/user_guide/indexing.html#returning-a-view-versus-a-copy\n",
      "  ltc_df['death_location'][ltc_df['death_location'].isna()]='A'\n"
     ]
    }
   ],
   "source": [
    "# fill the null values with 'A'\n",
    "ltc_df['death_location'][ltc_df['death_location'].isna()]='A'"
   ]
  },
  {
   "cell_type": "markdown",
   "id": "90c9469e",
   "metadata": {},
   "source": [
    "### 1.2.13. num_elixhauser_2_years_full_cat\n",
    "In num_elixhauser_2_years_full_cat, some values are \"no contacts\" that means, no comorbidities. So we need to change it to Zero"
   ]
  },
  {
   "cell_type": "code",
   "execution_count": 33,
   "id": "a2a27b01",
   "metadata": {},
   "outputs": [],
   "source": [
    "ltc_df['num_elixhauser_2_years_full_cat']=ltc_df['num_elixhauser_2_years_full_cat'].apply(lambda x: '0' if x== 'No contacts' else x)"
   ]
  },
  {
   "cell_type": "code",
   "execution_count": 34,
   "id": "d480b992",
   "metadata": {},
   "outputs": [
    {
     "data": {
      "text/plain": [
       "array(['1+', '0'], dtype=object)"
      ]
     },
     "execution_count": 34,
     "metadata": {},
     "output_type": "execute_result"
    }
   ],
   "source": [
    "ltc_df['num_elixhauser_2_years_full_cat'].unique()"
   ]
  },
  {
   "cell_type": "markdown",
   "id": "6a103e6c",
   "metadata": {},
   "source": [
    "### There is no Null values in the database anymore\n"
   ]
  },
  {
   "cell_type": "code",
   "execution_count": 35,
   "id": "637ef88a",
   "metadata": {},
   "outputs": [
    {
     "data": {
      "text/plain": [
       "Series([], dtype: int64)"
      ]
     },
     "execution_count": 35,
     "metadata": {},
     "output_type": "execute_result"
    }
   ],
   "source": [
    "# check for the missing values if it is null, that means we covered them all \n",
    "ltc_df.isna().sum()[ltc_df.isna().sum()!=0]"
   ]
  },
  {
   "cell_type": "markdown",
   "id": "829ef0b9",
   "metadata": {},
   "source": [
    "## 1.3- Dealling with Outliers "
   ]
  },
  {
   "cell_type": "code",
   "execution_count": 36,
   "id": "03e117e3",
   "metadata": {},
   "outputs": [],
   "source": [
    "# removing one individual with the age of 17\n",
    "ltc_df.drop(ltc_df[ltc_df['spec_pat_num_age']==17].index, inplace=True)\n",
    "\n",
    "# removing the ones with the sex of unknown\n",
    "ltc_df.drop(ltc_df[ltc_df['patient_gender']=='U'].index, inplace=True)"
   ]
  },
  {
   "cell_type": "markdown",
   "id": "7ee6ed28",
   "metadata": {},
   "source": [
    "### What are characteristics of LTC and DSL residents?"
   ]
  },
  {
   "cell_type": "code",
   "execution_count": 37,
   "id": "f2ef35b3",
   "metadata": {},
   "outputs": [],
   "source": [
    "total_dsl_res=len(ltc_df[ltc_df['dsl_resident_during_collection']==1])\n",
    "total_ltc_res=len(ltc_df[ltc_df['dsl_resident_during_collection']==0])"
   ]
  },
  {
   "cell_type": "code",
   "execution_count": 38,
   "id": "49a0866b",
   "metadata": {},
   "outputs": [
    {
     "data": {
      "text/plain": [
       "F    0.663976\n",
       "M    0.336024\n",
       "Name: patient_gender, dtype: float64"
      ]
     },
     "execution_count": 38,
     "metadata": {},
     "output_type": "execute_result"
    }
   ],
   "source": [
    "# Sex ratio for ltc residents\n",
    "ltc_df[ltc_df['dsl_resident_during_collection']==1].patient_gender.value_counts()/total_dsl_res"
   ]
  },
  {
   "cell_type": "code",
   "execution_count": 39,
   "id": "554ad1e2",
   "metadata": {},
   "outputs": [
    {
     "data": {
      "text/plain": [
       "F    0.613105\n",
       "M    0.386895\n",
       "Name: patient_gender, dtype: float64"
      ]
     },
     "execution_count": 39,
     "metadata": {},
     "output_type": "execute_result"
    }
   ],
   "source": [
    "# sex ratio for dsl residents\n",
    "ltc_df[ltc_df['dsl_resident_during_collection']==0].patient_gender.value_counts()/total_ltc_res"
   ]
  },
  {
   "cell_type": "code",
   "execution_count": 40,
   "id": "2e27ecbd",
   "metadata": {},
   "outputs": [
    {
     "data": {
      "text/plain": [
       "80+      0.660558\n",
       "70-79    0.192271\n",
       "60-69    0.092290\n",
       "50-59    0.039119\n",
       "40-49    0.009590\n",
       "30-39    0.005507\n",
       "18-29    0.000665\n",
       "Name: spec_pat_agecat, dtype: float64"
      ]
     },
     "execution_count": 40,
     "metadata": {},
     "output_type": "execute_result"
    }
   ],
   "source": [
    "# age category for the ltc residents\n",
    "ltc_df[ltc_df['dsl_resident_during_collection']==1].spec_pat_agecat.value_counts()/total_dsl_res"
   ]
  },
  {
   "cell_type": "code",
   "execution_count": 41,
   "id": "b485546e",
   "metadata": {},
   "outputs": [
    {
     "data": {
      "text/plain": [
       "80+      0.645335\n",
       "70-79    0.193780\n",
       "60-69    0.097222\n",
       "50-59    0.040537\n",
       "40-49    0.013690\n",
       "30-39    0.006778\n",
       "18-29    0.002658\n",
       "Name: spec_pat_agecat, dtype: float64"
      ]
     },
     "execution_count": 41,
     "metadata": {},
     "output_type": "execute_result"
    }
   ],
   "source": [
    "# age category for the dsl residents\n",
    "ltc_df[ltc_df['dsl_resident_during_collection']==0].spec_pat_agecat.value_counts()/total_ltc_res"
   ]
  },
  {
   "cell_type": "code",
   "execution_count": 42,
   "id": "87248863",
   "metadata": {},
   "outputs": [
    {
     "data": {
      "text/plain": [
       "Negative    0.874383\n",
       "Positive    0.125617\n",
       "Name: interp_result, dtype: float64"
      ]
     },
     "execution_count": 42,
     "metadata": {},
     "output_type": "execute_result"
    }
   ],
   "source": [
    "# results for the ltc residents \n",
    "ltc_df[ltc_df['dsl_resident_during_collection']==1].interp_result.value_counts()/total_dsl_res"
   ]
  },
  {
   "cell_type": "code",
   "execution_count": 43,
   "id": "787fb1b9",
   "metadata": {},
   "outputs": [
    {
     "data": {
      "text/plain": [
       "Negative    0.825758\n",
       "Positive    0.174242\n",
       "Name: interp_result, dtype: float64"
      ]
     },
     "execution_count": 43,
     "metadata": {},
     "output_type": "execute_result"
    }
   ],
   "source": [
    "# results for the dsl residents\n",
    "ltc_df[ltc_df['dsl_resident_during_collection']==0].interp_result.value_counts()/total_ltc_res"
   ]
  },
  {
   "cell_type": "code",
   "execution_count": 44,
   "id": "8387fa5f",
   "metadata": {},
   "outputs": [
    {
     "data": {
      "text/plain": [
       "N    0.772503\n",
       "U    0.124478\n",
       "Y    0.103019\n",
       "Name: symptomatic_during_collection, dtype: float64"
      ]
     },
     "execution_count": 44,
     "metadata": {},
     "output_type": "execute_result"
    }
   ],
   "source": [
    "# symptomatic_during_collection for the ltc residents\n",
    "ltc_df[ltc_df['dsl_resident_during_collection']==1].symptomatic_during_collection.value_counts()/total_dsl_res"
   ]
  },
  {
   "cell_type": "code",
   "execution_count": 45,
   "id": "5de6f4f5",
   "metadata": {},
   "outputs": [
    {
     "data": {
      "text/plain": [
       "N    0.739766\n",
       "U    0.144737\n",
       "Y    0.115497\n",
       "Name: symptomatic_during_collection, dtype: float64"
      ]
     },
     "execution_count": 45,
     "metadata": {},
     "output_type": "execute_result"
    }
   ],
   "source": [
    "# symptomatic_during_collection for the dsl residents\n",
    "ltc_df[ltc_df['dsl_resident_during_collection']==0].symptomatic_during_collection.value_counts()/total_ltc_res"
   ]
  },
  {
   "cell_type": "code",
   "execution_count": 46,
   "id": "9a227e95",
   "metadata": {},
   "outputs": [
    {
     "data": {
      "text/plain": [
       "1+    0.945594\n",
       "0     0.054406\n",
       "Name: num_elixhauser_2_years_full_cat, dtype: float64"
      ]
     },
     "execution_count": 46,
     "metadata": {},
     "output_type": "execute_result"
    }
   ],
   "source": [
    "# num_elixhauser_2_years_full_cat for the ltc residents\n",
    "ltc_df[ltc_df['dsl_resident_during_collection']==1].num_elixhauser_2_years_full_cat.value_counts()/total_dsl_res"
   ]
  },
  {
   "cell_type": "code",
   "execution_count": 47,
   "id": "10d0bfab",
   "metadata": {},
   "outputs": [
    {
     "data": {
      "text/plain": [
       "1+    0.922315\n",
       "0     0.077685\n",
       "Name: num_elixhauser_2_years_full_cat, dtype: float64"
      ]
     },
     "execution_count": 47,
     "metadata": {},
     "output_type": "execute_result"
    }
   ],
   "source": [
    "# num_elixhauser_2_years_full_cat for the dsl residents\n",
    "ltc_df[ltc_df['dsl_resident_during_collection']==0].num_elixhauser_2_years_full_cat.value_counts()/total_ltc_res"
   ]
  },
  {
   "cell_type": "code",
   "execution_count": 48,
   "id": "91f361c7",
   "metadata": {},
   "outputs": [
    {
     "data": {
      "text/plain": [
       "0    0.986992\n",
       "1    0.013008\n",
       "Name: cancer_mets_2_years_full, dtype: float64"
      ]
     },
     "execution_count": 48,
     "metadata": {},
     "output_type": "execute_result"
    }
   ],
   "source": [
    "# cancer_mets_2_years_full for the ltc residents\n",
    "ltc_df[ltc_df['dsl_resident_during_collection']==1].cancer_mets_2_years_full.value_counts()/total_dsl_res"
   ]
  },
  {
   "cell_type": "code",
   "execution_count": 49,
   "id": "8bfe1663",
   "metadata": {},
   "outputs": [
    {
     "data": {
      "text/plain": [
       "0    0.983054\n",
       "1    0.016946\n",
       "Name: cancer_mets_2_years_full, dtype: float64"
      ]
     },
     "execution_count": 49,
     "metadata": {},
     "output_type": "execute_result"
    }
   ],
   "source": [
    "# cancer_mets_2_years_full for the dsl residents\n",
    "ltc_df[ltc_df['dsl_resident_during_collection']==0].cancer_mets_2_years_full.value_counts()/total_ltc_res"
   ]
  },
  {
   "cell_type": "code",
   "execution_count": 50,
   "id": "bca9216c",
   "metadata": {},
   "outputs": [
    {
     "data": {
      "text/plain": [
       "0    0.973414\n",
       "1    0.026586\n",
       "Name: liver_dis_2_years_full, dtype: float64"
      ]
     },
     "execution_count": 50,
     "metadata": {},
     "output_type": "execute_result"
    }
   ],
   "source": [
    "# liver_dis_2_years_full for the ltc residents\n",
    "ltc_df[ltc_df['dsl_resident_during_collection']==1].liver_dis_2_years_full.value_counts()/total_dsl_res"
   ]
  },
  {
   "cell_type": "code",
   "execution_count": 51,
   "id": "d1012850",
   "metadata": {},
   "outputs": [
    {
     "data": {
      "text/plain": [
       "0    0.972687\n",
       "1    0.027313\n",
       "Name: liver_dis_2_years_full, dtype: float64"
      ]
     },
     "execution_count": 51,
     "metadata": {},
     "output_type": "execute_result"
    }
   ],
   "source": [
    "# liver_dis_2_years_full for the dsl residents\n",
    "ltc_df[ltc_df['dsl_resident_during_collection']==0].liver_dis_2_years_full.value_counts()/total_ltc_res"
   ]
  },
  {
   "cell_type": "markdown",
   "id": "adb4b449",
   "metadata": {},
   "source": [
    "# Save the pre-processed data file."
   ]
  },
  {
   "cell_type": "code",
   "execution_count": 52,
   "id": "0a363a9c",
   "metadata": {},
   "outputs": [],
   "source": [
    "ltc_df.to_hdf(\"ltc_df.h5\",key='ltc_df')"
   ]
  },
  {
   "cell_type": "code",
   "execution_count": null,
   "id": "cd60f59c",
   "metadata": {},
   "outputs": [],
   "source": []
  }
 ],
 "metadata": {
  "kernelspec": {
   "display_name": "Python 3 (ipykernel)",
   "language": "python",
   "name": "python3"
  },
  "language_info": {
   "codemirror_mode": {
    "name": "ipython",
    "version": 3
   },
   "file_extension": ".py",
   "mimetype": "text/x-python",
   "name": "python",
   "nbconvert_exporter": "python",
   "pygments_lexer": "ipython3",
   "version": "3.8.8"
  }
 },
 "nbformat": 4,
 "nbformat_minor": 5
}
